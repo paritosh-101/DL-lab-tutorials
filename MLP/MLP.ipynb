{
 "cells": [
  {
   "cell_type": "markdown",
   "metadata": {
    "id": "BDxNhJCKi1-q"
   },
   "source": [
    "# <font color = 'orange'>**Multilayer Perceptron (MLP)**</font>"
   ]
  },
  {
   "cell_type": "markdown",
   "metadata": {
    "id": "lfH_fQQNtDJe"
   },
   "source": [
    "A multilayer perceptron is a basic neural neural network where the hidden layers are densely connected vectors i.e., every neuron in one layer is connected to every other neuron in the next layer.<br/>\r\n",
    "In this tutorial we are going to construct one such network to classify the MNIST handwritten digit database.\r\n",
    "We will build the network progressively, evolving it at every step, to fit our needs.<br/>\r\n",
    "The purpose of this tutorial is to convey the process of gaining an intuition about the architecture of a neural network that suits a particular type of deep learning problem.<br/><br/>\r\n",
    "\r\n",
    "**Please Note:** Due to the stochastic nature of our model, your results might differ from previous ones already documented. Please take the accompanying text with a grain of salt."
   ]
  },
  {
   "cell_type": "markdown",
   "metadata": {
    "id": "Wpmy3MUQvtug"
   },
   "source": [
    "---------------------\r\n",
    "\r\n",
    "Keras has an API to directly load the MNIST digit dataset neatly split into training and testing sets along with relevant labels.\r\n",
    "<font size='5'>``tensorflow.keras.datasets.mnist``<font/>"
   ]
  },
  {
   "cell_type": "code",
   "execution_count": null,
   "metadata": {
    "id": "0PzaKK2TUpY1"
   },
   "outputs": [],
   "source": [
    "import numpy as np\r\n",
    "from keras.initializers import RandomNormal\r\n",
    "from keras.layers import Activation, Dense, Dropout, Flatten, ReLU\r\n",
    "from keras.models import Model\r\n",
    "from keras.models import Input\r\n",
    "from keras.optimizers import Adam\r\n",
    "from keras.utils import to_categorical, plot_model\r\n",
    "from tensorflow.keras.datasets import mnist\r\n",
    "import matplotlib.pyplot as plt"
   ]
  },
  {
   "cell_type": "markdown",
   "metadata": {
    "id": "Md6nYmMF4_1_"
   },
   "source": [
    "---------------\r\n",
    "\r\n",
    "## <font color='orange'>**Dataset**<font/>\r\n",
    "\r\n",
    "MNIST (Modified National Institute of Standards and Technology) digits is a collection of handwritten digits ranging from 0 to 9. It has a training set of 60,000 images, and 10,000 test images that are classified into corresponding categories or labels.<br/>\r\n",
    "They are grayscale images (single channel specifying pixel intensity) of 28 x 28 pixels.<br/><br/>\r\n",
    "The ``mnist.load_data()`` function sets up the training and testing sets, along with the assigned labels for you, as shown below. You can also download the dataset separately from here [The MNIST Database](http://yann.lecun.com/exdb/mnist/) and set it up to be loaded from your Google Drive.<br/><br/>\r\n",
    "This is, kind of the entryway, to test your image based models. The images here are simple (in terms of features to be learnt), in ample number, and are **\"real world\"** samples.<br/><br/>\r\n",
    "\"*If it doesn't work on MNIST, it won't work on anything else.<br/>*\r\n",
    "*If it works on MNIST, it might not work on everything else.\"*"
   ]
  },
  {
   "cell_type": "code",
   "execution_count": null,
   "metadata": {
    "colab": {
     "base_uri": "https://localhost:8080/"
    },
    "id": "p2CSSXYxWn-I",
    "outputId": "3b3f9488-524a-42ec-a6a3-bccadc000195"
   },
   "outputs": [
    {
     "name": "stdout",
     "output_type": "stream",
     "text": [
      "Downloading data from https://storage.googleapis.com/tensorflow/tf-keras-datasets/mnist.npz\n",
      "11493376/11490434 [==============================] - 0s 0us/step\n"
     ]
    }
   ],
   "source": [
    "(x_train, y_train), (x_test, y_test) = mnist.load_data()"
   ]
  },
  {
   "cell_type": "code",
   "execution_count": null,
   "metadata": {
    "colab": {
     "base_uri": "https://localhost:8080/"
    },
    "id": "zcWQk-_YXgYA",
    "outputId": "5355a16e-25e1-4b1c-e25a-fe703bee1540"
   },
   "outputs": [
    {
     "name": "stdout",
     "output_type": "stream",
     "text": [
      "(60000, 28, 28) (10000, 28, 28)\n"
     ]
    }
   ],
   "source": [
    "# Shows the number of images and their dimensions respectively\r\n",
    "print(x_train.shape, x_test.shape)"
   ]
  },
  {
   "cell_type": "code",
   "execution_count": null,
   "metadata": {
    "colab": {
     "base_uri": "https://localhost:8080/",
     "height": 157
    },
    "id": "mQO_9hmDXuqb",
    "outputId": "754341e5-76f8-432c-a2e0-bfa527c49b54"
   },
   "outputs": [
    {
     "data": {
      "text/plain": [
       "<matplotlib.image.AxesImage at 0x7f1941b60828>"
      ]
     },
     "execution_count": 4,
     "metadata": {
      "tags": []
     },
     "output_type": "execute_result"
    },
    {
     "data": {
      "image/png": "[encoded data removed]",
      "text/plain": [
       "<Figure size 144x144 with 1 Axes>"
      ]
     },
     "metadata": {
      "needs_background": "light",
      "tags": []
     },
     "output_type": "display_data"
    }
   ],
   "source": [
    "plt.figure(figsize=(2,2))   # 2 X 2 inches, 1 inch ~ 80 pixels\r\n",
    "plt.axis(\"off\")\r\n",
    "plt.imshow(x_train[0], cmap='Greys')"
   ]
  },
  {
   "cell_type": "markdown",
   "metadata": {
    "id": "Y_yn9GUH-OsO"
   },
   "source": [
    "------------\r\n",
    "The code below is to extract only a specific class of digits from the dataset, should you wish to work on a smaller scale."
   ]
  },
  {
   "cell_type": "code",
   "execution_count": null,
   "metadata": {
    "id": "DezLuF9acehR"
   },
   "outputs": [],
   "source": [
    "# collect specific digits\r\n",
    "\r\n",
    "# train_filter = np.where((Y_train == 0 ) | (Y_train == 4))\r\n",
    "# test_filter = np.where((Y_test == 0) | (Y_test == 4))\r\n",
    "\r\n",
    "# X_train, Y_train = X_train[train_filter], Y_train[train_filter]\r\n",
    "# X_test, Y_test = X_test[test_filter], Y_test[test_filter]"
   ]
  },
  {
   "cell_type": "markdown",
   "metadata": {
    "id": "bV4ttPmH-pkz"
   },
   "source": [
    "-----------\r\n",
    "\r\n",
    "## <font color='orange'>**Dataset Distribution**<font/>\r\n",
    "\r\n",
    "Let us now see how the data is distributed among all the classes.<br/><br/>\r\n",
    "It is an important thing to check if the dataset is distributed evenly (with some margin allowed) among all classes, otherwise our model might be trained with a bias against a certain set of classes, and this might might work against it during testing or application.<br/><br/>\r\n",
    "From the plotted histogram we see that the data is quite evenly distributed, so we can proceed further."
   ]
  },
  {
   "cell_type": "code",
   "execution_count": null,
   "metadata": {
    "colab": {
     "base_uri": "https://localhost:8080/",
     "height": 388
    },
    "id": "EH0WlSyWeD_y",
    "outputId": "a43084bb-9a94-4fbf-82d4-41fbabd9716d"
   },
   "outputs": [
    {
     "data": {
      "text/plain": [
       "(array([5923., 6742., 5958., 6131., 5842., 5421., 5918., 6265., 5851.,\n",
       "        5949.]),\n",
       " array([0. , 0.9, 1.8, 2.7, 3.6, 4.5, 5.4, 6.3, 7.2, 8.1, 9. ]),\n",
       " <a list of 10 Patch objects>)"
      ]
     },
     "execution_count": 6,
     "metadata": {
      "tags": []
     },
     "output_type": "execute_result"
    },
    {
     "data": {
      "image/png": "[encoded data removed]",
      "text/plain": [
       "<Figure size 720x360 with 1 Axes>"
      ]
     },
     "metadata": {
      "needs_background": "light",
      "tags": []
     },
     "output_type": "display_data"
    }
   ],
   "source": [
    "# checking for even distribution\r\n",
    "\r\n",
    "plt.figure(figsize=(10,5))\r\n",
    "plt.hist(y_train, edgecolor='white', linewidth=2)"
   ]
  },
  {
   "cell_type": "markdown",
   "metadata": {
    "id": "iLFwhmd6DTM0"
   },
   "source": [
    "---------------\r\n",
    "\r\n",
    "## <font color='orange'>**Categorical Labels vs. One-Hot Encoding**<font/>\r\n",
    "\r\n",
    "The labels provided to us via the MNIST represent their respective digits i.e., a handwritten digit of 7 is labelled as '7' (categorical data). While this is conveninet for us, our nueral network will not see it that way.<br/><br/>\r\n",
    "\r\n",
    "Although our dataset is that of digits, there really isn't any ordinal relationship among them, nor do we want there to be. The expectancy of our model should not be to classify the next digit image as + 1 of the previous image.<br/>\r\n",
    "\r\n",
    "Using the provided labels will allow the model to assume a natural ordering between categories and may result in poor performance or unexpected results (predictions halfway between categories, or it assumes higher the categorical value, better the category.).<br/><br/>\r\n",
    "\r\n",
    "To mitigate this problem, we use one-hot encoding (as shown below), where '0' indicates non-existant and '1' indicates existant.<br/><br/>\r\n",
    "\r\n",
    "The list indices where '1' is encoded represent the respective digit i.e., for digit '5', the fifth index will be '1' and the rest will be '0'."
   ]
  },
  {
   "cell_type": "code",
   "execution_count": null,
   "metadata": {
    "colab": {
     "base_uri": "https://localhost:8080/"
    },
    "id": "jc1YQC5LjRZl",
    "outputId": "3fc2cfe0-8600-4fa5-e66f-2d4bb88613be"
   },
   "outputs": [
    {
     "name": "stdout",
     "output_type": "stream",
     "text": [
      "[5 0 4 1 9 2 1 3 1 4]\n"
     ]
    }
   ],
   "source": [
    "# Raw labels\r\n",
    "\r\n",
    "print(y_train[:10])"
   ]
  },
  {
   "cell_type": "code",
   "execution_count": null,
   "metadata": {
    "colab": {
     "base_uri": "https://localhost:8080/"
    },
    "id": "PflIjvnffts9",
    "outputId": "4fb6e588-d53f-42db-f79b-57d7bd4ba2ec"
   },
   "outputs": [
    {
     "name": "stdout",
     "output_type": "stream",
     "text": [
      "[[0. 0. 0. 0. 0. 1. 0. 0. 0. 0.]\n",
      " [1. 0. 0. 0. 0. 0. 0. 0. 0. 0.]\n",
      " [0. 0. 0. 0. 1. 0. 0. 0. 0. 0.]\n",
      " [0. 1. 0. 0. 0. 0. 0. 0. 0. 0.]\n",
      " [0. 0. 0. 0. 0. 0. 0. 0. 0. 1.]\n",
      " [0. 0. 1. 0. 0. 0. 0. 0. 0. 0.]\n",
      " [0. 1. 0. 0. 0. 0. 0. 0. 0. 0.]\n",
      " [0. 0. 0. 1. 0. 0. 0. 0. 0. 0.]\n",
      " [0. 1. 0. 0. 0. 0. 0. 0. 0. 0.]\n",
      " [0. 0. 0. 0. 1. 0. 0. 0. 0. 0.]]\n"
     ]
    }
   ],
   "source": [
    "# One-hot encoded labels (compare above)\r\n",
    "\r\n",
    "y_train_cat = to_categorical(y_train)\r\n",
    "y_test_cat = to_categorical(y_test)\r\n",
    "\r\n",
    "print(y_train_cat[:10])"
   ]
  },
  {
   "cell_type": "markdown",
   "metadata": {
    "id": "XhHjqA-AJvl9"
   },
   "source": [
    "-----------------\r\n",
    "\r\n",
    "## <font color='orange'>**Dataset Normalization**<font/>\r\n",
    "\r\n",
    "Neural networks tend to work better with small values. A good way to judge this, is to check the range of your activation function in the last layer, or your output layer.<br/>\r\n",
    "Large values might grow out of bounds and corrupt the network through subsquent training steps.<br/><br/>\r\n",
    "\r\n",
    "Therefore, we normalize our image pixels values from [ 0, 255 ] to [ 0, 1 ]."
   ]
  },
  {
   "cell_type": "code",
   "execution_count": null,
   "metadata": {
    "id": "jnR0WlEBkYaJ"
   },
   "outputs": [],
   "source": [
    "# normalization\r\n",
    "x_train_reg = x_train.astype('float32') / 255.0\r\n",
    "x_test_reg = x_test.astype('float32') / 255.0"
   ]
  },
  {
   "cell_type": "markdown",
   "metadata": {
    "id": "ul2T89SXLSfe"
   },
   "source": [
    "--------------\r\n",
    "\r\n",
    "## <font color='orange'>**Classifier Architecture**<font/>\r\n",
    "\r\n",
    "We will first start with a relatively simple neural network. As mentioned, the network will comprise of fully connected, 1-D hidden layers. The ``Dense()`` layer provided by Keras will be useful here. Documentation for the same can be found [here](https://keras.io/api/layers/core_layers/dense/).<br/><br/>\r\n",
    "\r\n",
    "We are now required to pass a 28 x 28 \"square\" data structure (MNIST image) to a vector (hidden layer). These are actually all tensors. More on that here: [ [1](https://www.tensorflow.org/guide/tensor) ], [ [2](https://en.wikipedia.org/wiki/Tensor) ].<br/><br/>\r\n",
    "\r\n",
    "This incompatibility can be resolved by flattening the square image into a vector (1-D array), by using the ``Flatten()`` layer in Keras ([documentation](https://keras.io/api/layers/reshaping_layers/flatten/)). This layer simply multiplies the dimensions of an n-dimensional object to get the number of units in the vector. So here, 28*28 will give us 784.<br/><br/>\r\n",
    "\r\n",
    "We are also initializing the weights of the neural network ``init = RandomNormal(stddev=0.02)`` to values randomly sampled from a standard normal distribution. This helps with convergence and performance of the network.<br/><br/>\r\n",
    "\r\n",
    "The output layer will obviously contain 10 units sice we want our classifier to output probabilities for 10 classes of digits.<br/><br/>\r\n",
    "\r\n",
    "A neural network has the tendency to memorize its training data, especially if it contains more than enough capacity. In such cases, the network fails catastrophically when subjected to the test data. This is the classic case of the network failing to generalize. To avoid this tendency, the model uses a regularizing layer or function. A common regularizing layer is ``Dropout()``.<br/><br/>\r\n",
    "\r\n",
    "The idea of dropout is simple. Given a dropout rate (passed as an argument), the Dropout layer randomly removes that fraction of units from participating in the next layer. For example, if the first layer has 256 units, after dropout = 0.45 is applied, only (1 - 0.45) * 256 units = 140 units from layer 1 participate in layer 2.<br/><br/>\r\n",
    "\r\n",
    "The Dropout layer makes neural networks robust to unforeseen input data because\r\n",
    "the network is trained to predict correctly, even if some units are missing. It's worth\r\n",
    "noting that dropout is not used in the output layer and it is only active during\r\n",
    "training. Moreover, dropout is not present during predictions.<br/><br/>\r\n",
    "\r\n",
    "The optimizer \"sgd\" used here is Stochastic Gradient Descent. In SGD, a mini batch of samples is chosen to compute an approximate value of the descent.<br/>\r\n",
    "\r\n",
    "**NOTE:** Since optimization is based on differentiation, it follows that an important criterion of the loss function must be for it to be smooth or differentiable. This is an important constraint to keep in mind when introducing a new loss function.<br/><br/>\r\n",
    "\r\n",
    "How far the predicted tensor is from the one-hot ground truth vector is called loss. One type of loss function is mean_squared_error (MSE), or the average of the squares of the differences between the target or label and the prediction .<br/>\r\n",
    " In the current example, we are using **categorical_crossentropy**. It's the negative of the sum of the product of the target or label and the logarithm of the prediction per category."
   ]
  },
  {
   "cell_type": "code",
   "execution_count": null,
   "metadata": {
    "id": "MfIaujCnmblM"
   },
   "outputs": [],
   "source": [
    "def define_classifier(image_shape):\r\n",
    "\r\n",
    "  init = RandomNormal(stddev=0.02)\r\n",
    "  in_image = Input(shape=image_shape)\r\n",
    "\r\n",
    "  c = Flatten()(in_image)\r\n",
    "\r\n",
    "  c = Dense(16, activation='relu', kernel_initializer=init)(c)\r\n",
    "  c = Dropout(0.1)(c)\r\n",
    "\r\n",
    "  c = Dense(32, activation='relu', kernel_initializer=init)(c)\r\n",
    "  c = Dropout(0.1)(c)\r\n",
    "\r\n",
    "  c = Dense(64, activation='relu', kernel_initializer=init)(c)\r\n",
    "  c = Dropout(0.1)(c)\r\n",
    "\r\n",
    "  out = Dense(10, activation = 'softmax', kernel_initializer=init)(c)\r\n",
    "\r\n",
    "  model = Model(in_image, out)\r\n",
    "  model.compile(loss='categorical_crossentropy', optimizer='sgd', metrics=['accuracy'])\r\n",
    "    \r\n",
    "  return model"
   ]
  },
  {
   "cell_type": "markdown",
   "metadata": {
    "id": "gVhbFBq5YPHL"
   },
   "source": [
    "--------------\r\n",
    "\r\n",
    "We finally create the model object by calling the ``define_classifier()`` function, and print out its structure.<br/><br/>\r\n",
    "\r\n",
    "Please note the **output shape** of each layer and the **number of parameters**.\r\n",
    "\r\n",
    "The \"None\" shown as the first dimension of each output shape tell us that the network is maleable to that dimension and we can pass any value in it. For example in ``[(None, 28, 28, 1)]`` the ``(28, 28, 1)`` represents the image shape and ``None`` here means we can pass any number images at a time. But they have to be reshaped properly (in a tensor)."
   ]
  },
  {
   "cell_type": "code",
   "execution_count": null,
   "metadata": {
    "colab": {
     "base_uri": "https://localhost:8080/"
    },
    "id": "jNOxSP1Vr_bF",
    "outputId": "e067ac77-62e6-4a61-eb72-c618b5d83f45"
   },
   "outputs": [
    {
     "name": "stdout",
     "output_type": "stream",
     "text": [
      "Model: \"model\"\n",
      "_________________________________________________________________\n",
      "Layer (type)                 Output Shape              Param #   \n",
      "=================================================================\n",
      "input_1 (InputLayer)         [(None, 28, 28, 1)]       0         \n",
      "_________________________________________________________________\n",
      "flatten (Flatten)            (None, 784)               0         \n",
      "_________________________________________________________________\n",
      "dense (Dense)                (None, 16)                12560     \n",
      "_________________________________________________________________\n",
      "dropout (Dropout)            (None, 16)                0         \n",
      "_________________________________________________________________\n",
      "dense_1 (Dense)              (None, 32)                544       \n",
      "_________________________________________________________________\n",
      "dropout_1 (Dropout)          (None, 32)                0         \n",
      "_________________________________________________________________\n",
      "dense_2 (Dense)              (None, 64)                2112      \n",
      "_________________________________________________________________\n",
      "dropout_2 (Dropout)          (None, 64)                0         \n",
      "_________________________________________________________________\n",
      "dense_3 (Dense)              (None, 10)                650       \n",
      "=================================================================\n",
      "Total params: 15,866\n",
      "Trainable params: 15,866\n",
      "Non-trainable params: 0\n",
      "_________________________________________________________________\n"
     ]
    }
   ],
   "source": [
    "model = define_classifier((28,28,1))\r\n",
    "model.summary()"
   ]
  },
  {
   "cell_type": "markdown",
   "metadata": {
    "id": "ratbTP_paXvc"
   },
   "source": [
    "---------------\r\n",
    "\r\n",
    "## <font color='orange'>**Training the model**<font/>\r\n",
    "\r\n",
    "We use the model object to call ``fit()`` and pass our normalized training images ``x_train_reg`` and corresponding one-hot encoded labels ``y_train_cat`` as arguments.\r\n",
    "\r\n",
    "We train it for 10 **epochs** for now. One Epoch is when an **entire** dataset is passed forward and backward through the neural network only **once**.<br/>\r\n",
    "Since one epoch is too big to feed to the computer at once we divide it in several smaller batches.<br/><br/>\r\n",
    "\r\n",
    "Hence, we pass our dataset in batches of 64, shown by ``batch_size``."
   ]
  },
  {
   "cell_type": "code",
   "execution_count": null,
   "metadata": {
    "colab": {
     "base_uri": "https://localhost:8080/"
    },
    "id": "kn8XkyDRsOUG",
    "outputId": "4ee996e7-a073-49c2-e6d6-0d75eae81976"
   },
   "outputs": [
    {
     "name": "stdout",
     "output_type": "stream",
     "text": [
      "Epoch 1/10\n",
      "938/938 [==============================] - 2s 1ms/step - loss: 2.3021 - accuracy: 0.1130\n",
      "Epoch 2/10\n",
      "938/938 [==============================] - 1s 2ms/step - loss: 2.3013 - accuracy: 0.1122\n",
      "Epoch 3/10\n",
      "938/938 [==============================] - 1s 1ms/step - loss: 2.3013 - accuracy: 0.1103\n",
      "Epoch 4/10\n",
      "938/938 [==============================] - 1s 1ms/step - loss: 2.3012 - accuracy: 0.1108\n",
      "Epoch 5/10\n",
      "938/938 [==============================] - 1s 2ms/step - loss: 2.3011 - accuracy: 0.1123\n",
      "Epoch 6/10\n",
      "938/938 [==============================] - 1s 1ms/step - loss: 2.3005 - accuracy: 0.1152\n",
      "Epoch 7/10\n",
      "938/938 [==============================] - 1s 1ms/step - loss: 2.3014 - accuracy: 0.1110\n",
      "Epoch 8/10\n",
      "938/938 [==============================] - 1s 1ms/step - loss: 2.3009 - accuracy: 0.1126\n",
      "Epoch 9/10\n",
      "938/938 [==============================] - 1s 1ms/step - loss: 2.3011 - accuracy: 0.1112\n",
      "Epoch 10/10\n",
      "938/938 [==============================] - 1s 1ms/step - loss: 2.3007 - accuracy: 0.1116\n"
     ]
    },
    {
     "data": {
      "text/plain": [
       "<tensorflow.python.keras.callbacks.History at 0x7f1902e51208>"
      ]
     },
     "execution_count": 12,
     "metadata": {
      "tags": []
     },
     "output_type": "execute_result"
    }
   ],
   "source": [
    "model.fit(x_train_reg, y_train_cat, epochs=10, batch_size=64)"
   ]
  },
  {
   "cell_type": "markdown",
   "metadata": {
    "id": "tYTLMEqCcPJR"
   },
   "source": [
    "----------------\r\n",
    "\r\n",
    "## <font color='orange'>**Welcome to Practical Deep Learning. It's hell, and you're gonna love it.**<font/>\r\n",
    "\r\n",
    "Checking the **training** accuracy above, we see that it is **11%**. :(<br/><br>\r\n",
    "\r\n",
    "Perhaps our network is not \"deep\" enough i.e., there aren't enough parameters to tune such that our process of classification might be encoded. Let us increase its \"depth\".<br/><br/>\r\n",
    "\r\n",
    "Since, our training accuracy is so bad, we won't be testing/evaluating it just yet. Still, for a perspective, the code below calls on the model to predict one single image.<br/>\r\n",
    "\r\n",
    "As you see, the image is that of digit '9' but it is classified as '5'."
   ]
  },
  {
   "cell_type": "code",
   "execution_count": null,
   "metadata": {
    "id": "zN8nTnAAuvFi"
   },
   "outputs": [],
   "source": [
    "# input1 = np.reshape(x_test_reg[7],(1,28,28,1))\r\n",
    "# out = model.predict(input1)\r\n",
    "# plt.imshow(x_test_reg[7], cmap='Greys')\r\n",
    "# print(np.argmin(out))"
   ]
  },
  {
   "cell_type": "markdown",
   "metadata": {
    "id": "bI2KILTeggjG"
   },
   "source": [
    "----------\r\n",
    "\r\n",
    "## <font color='orange'>**Mk. 2**<font/>\r\n",
    "\r\n",
    "We have added two additional layers of 128 and 256 units each, and increased the corresponding dropout rate, given the increased number of units in the layer.<br/><br/>\r\n",
    "\r\n",
    "Let us see how this changes things.\r\n",
    "\r\n",
    "Note the increased number of parameters in the model summary."
   ]
  },
  {
   "cell_type": "markdown",
   "metadata": {
    "id": "aRvDgxaffVjA"
   },
   "source": [
    "----------"
   ]
  },
  {
   "cell_type": "code",
   "execution_count": null,
   "metadata": {
    "id": "ivUCW0JMJal4"
   },
   "outputs": [],
   "source": [
    "def define_classifier(image_shape):\r\n",
    "\r\n",
    "  init = RandomNormal(stddev=0.02)\r\n",
    "  in_image = Input(shape=image_shape)\r\n",
    "\r\n",
    "  c = Flatten()(in_image)\r\n",
    "\r\n",
    "  c = Dense(32, activation='relu', kernel_initializer=init)(c)\r\n",
    "  c = Dropout(0.1)(c)\r\n",
    "\r\n",
    "  c = Dense(64, activation='relu', kernel_initializer=init)(c)\r\n",
    "  c = Dropout(0.1)(c)\r\n",
    "\r\n",
    "  c = Dense(128, activation='relu', kernel_initializer=init)(c)\r\n",
    "  c = Dropout(0.2)(c)\r\n",
    "\r\n",
    "  c = Dense(256, activation='relu', kernel_initializer=init)(c)\r\n",
    "  c = Dropout(0.3)(c)\r\n",
    "\r\n",
    "  out = Dense(10, activation = 'softmax', kernel_initializer=init)(c)\r\n",
    "\r\n",
    "  model = Model(in_image, out)\r\n",
    "  model.compile(loss='categorical_crossentropy', optimizer='sgd', metrics=['accuracy'])\r\n",
    "    \r\n",
    "  return model"
   ]
  },
  {
   "cell_type": "code",
   "execution_count": null,
   "metadata": {
    "colab": {
     "base_uri": "https://localhost:8080/"
    },
    "id": "_UFdYCSGKEwx",
    "outputId": "bc26ad8f-2949-4abb-bda3-9699eebfd90f"
   },
   "outputs": [
    {
     "name": "stdout",
     "output_type": "stream",
     "text": [
      "Model: \"model_1\"\n",
      "_________________________________________________________________\n",
      "Layer (type)                 Output Shape              Param #   \n",
      "=================================================================\n",
      "input_2 (InputLayer)         [(None, 28, 28, 1)]       0         \n",
      "_________________________________________________________________\n",
      "flatten_1 (Flatten)          (None, 784)               0         \n",
      "_________________________________________________________________\n",
      "dense_4 (Dense)              (None, 32)                25120     \n",
      "_________________________________________________________________\n",
      "dropout_3 (Dropout)          (None, 32)                0         \n",
      "_________________________________________________________________\n",
      "dense_5 (Dense)              (None, 64)                2112      \n",
      "_________________________________________________________________\n",
      "dropout_4 (Dropout)          (None, 64)                0         \n",
      "_________________________________________________________________\n",
      "dense_6 (Dense)              (None, 128)               8320      \n",
      "_________________________________________________________________\n",
      "dropout_5 (Dropout)          (None, 128)               0         \n",
      "_________________________________________________________________\n",
      "dense_7 (Dense)              (None, 256)               33024     \n",
      "_________________________________________________________________\n",
      "dropout_6 (Dropout)          (None, 256)               0         \n",
      "_________________________________________________________________\n",
      "dense_8 (Dense)              (None, 10)                2570      \n",
      "=================================================================\n",
      "Total params: 71,146\n",
      "Trainable params: 71,146\n",
      "Non-trainable params: 0\n",
      "_________________________________________________________________\n"
     ]
    }
   ],
   "source": [
    "model = define_classifier((28,28,1))\r\n",
    "model.summary()"
   ]
  },
  {
   "cell_type": "code",
   "execution_count": null,
   "metadata": {
    "colab": {
     "base_uri": "https://localhost:8080/"
    },
    "id": "zJ8acaqgKFsn",
    "outputId": "cf5b070d-f7d0-41c4-e437-7a5a9fbc2f2c"
   },
   "outputs": [
    {
     "name": "stdout",
     "output_type": "stream",
     "text": [
      "Epoch 1/10\n",
      "938/938 [==============================] - 3s 3ms/step - loss: 2.3021 - accuracy: 0.1129\n",
      "Epoch 2/10\n",
      "938/938 [==============================] - 2s 3ms/step - loss: 2.3013 - accuracy: 0.1115\n",
      "Epoch 3/10\n",
      "938/938 [==============================] - 2s 2ms/step - loss: 2.3013 - accuracy: 0.1110\n",
      "Epoch 4/10\n",
      "938/938 [==============================] - 2s 3ms/step - loss: 2.3012 - accuracy: 0.1126\n",
      "Epoch 5/10\n",
      "938/938 [==============================] - 2s 3ms/step - loss: 2.3010 - accuracy: 0.1109\n",
      "Epoch 6/10\n",
      "938/938 [==============================] - 2s 2ms/step - loss: 2.3011 - accuracy: 0.1128\n",
      "Epoch 7/10\n",
      "938/938 [==============================] - 2s 2ms/step - loss: 2.3012 - accuracy: 0.1127\n",
      "Epoch 8/10\n",
      "938/938 [==============================] - 2s 2ms/step - loss: 2.3016 - accuracy: 0.1101\n",
      "Epoch 9/10\n",
      "938/938 [==============================] - 2s 3ms/step - loss: 2.3010 - accuracy: 0.1126\n",
      "Epoch 10/10\n",
      "938/938 [==============================] - 2s 2ms/step - loss: 2.3009 - accuracy: 0.1124\n"
     ]
    },
    {
     "data": {
      "text/plain": [
       "<tensorflow.python.keras.callbacks.History at 0x7f190072c630>"
      ]
     },
     "execution_count": 16,
     "metadata": {
      "tags": []
     },
     "output_type": "execute_result"
    }
   ],
   "source": [
    "model.fit(x_train_reg, y_train_cat, epochs=10, batch_size=64)"
   ]
  },
  {
   "cell_type": "markdown",
   "metadata": {
    "id": "aZRIHhGphqNT"
   },
   "source": [
    "---------------\r\n",
    "\r\n",
    "## <font color='orange'>**Mk. 3**<font/>\r\n",
    "\r\n",
    "Okay, still bad.<br/><br/>\r\n",
    "\r\n",
    "Maybe the model isn't getting enough chances to properly tune itself according to our needs i.e., maybe the model isn't being trained enough.<br/><br/>\r\n",
    "\r\n",
    "Let us increase the number of epochs to 20 and see what happens."
   ]
  },
  {
   "cell_type": "code",
   "execution_count": null,
   "metadata": {
    "colab": {
     "base_uri": "https://localhost:8080/"
    },
    "id": "rZ_z3zN1KKLv",
    "outputId": "e9f6f9ba-639e-4fdb-9323-5808d0763ebe"
   },
   "outputs": [
    {
     "name": "stdout",
     "output_type": "stream",
     "text": [
      "Epoch 1/20\n",
      "938/938 [==============================] - 2s 3ms/step - loss: 2.3009 - accuracy: 0.1124\n",
      "Epoch 2/20\n",
      "938/938 [==============================] - 2s 3ms/step - loss: 2.3008 - accuracy: 0.1124\n",
      "Epoch 3/20\n",
      "938/938 [==============================] - 2s 3ms/step - loss: 2.3007 - accuracy: 0.1124\n",
      "Epoch 4/20\n",
      "938/938 [==============================] - 2s 2ms/step - loss: 2.3005 - accuracy: 0.1124\n",
      "Epoch 5/20\n",
      "938/938 [==============================] - 2s 3ms/step - loss: 2.3003 - accuracy: 0.1124\n",
      "Epoch 6/20\n",
      "938/938 [==============================] - 2s 2ms/step - loss: 2.2998 - accuracy: 0.1124\n",
      "Epoch 7/20\n",
      "938/938 [==============================] - 2s 2ms/step - loss: 2.2987 - accuracy: 0.1124\n",
      "Epoch 8/20\n",
      "938/938 [==============================] - 2s 3ms/step - loss: 2.2956 - accuracy: 0.1124\n",
      "Epoch 9/20\n",
      "938/938 [==============================] - 2s 3ms/step - loss: 2.2771 - accuracy: 0.1459\n",
      "Epoch 10/20\n",
      "938/938 [==============================] - 2s 2ms/step - loss: 2.0104 - accuracy: 0.2236\n",
      "Epoch 11/20\n",
      "938/938 [==============================] - 2s 3ms/step - loss: 1.7679 - accuracy: 0.2857\n",
      "Epoch 12/20\n",
      "938/938 [==============================] - 2s 2ms/step - loss: 1.5758 - accuracy: 0.4015\n",
      "Epoch 13/20\n",
      "938/938 [==============================] - 2s 2ms/step - loss: 1.3501 - accuracy: 0.4759\n",
      "Epoch 14/20\n",
      "938/938 [==============================] - 2s 2ms/step - loss: 1.2056 - accuracy: 0.5391\n",
      "Epoch 15/20\n",
      "938/938 [==============================] - 2s 2ms/step - loss: 1.0635 - accuracy: 0.6220\n",
      "Epoch 16/20\n",
      "938/938 [==============================] - 2s 3ms/step - loss: 0.9267 - accuracy: 0.6848\n",
      "Epoch 17/20\n",
      "938/938 [==============================] - 2s 2ms/step - loss: 0.8097 - accuracy: 0.7326\n",
      "Epoch 18/20\n",
      "938/938 [==============================] - 2s 3ms/step - loss: 0.7149 - accuracy: 0.7703\n",
      "Epoch 19/20\n",
      "938/938 [==============================] - 2s 3ms/step - loss: 0.6329 - accuracy: 0.8037\n",
      "Epoch 20/20\n",
      "938/938 [==============================] - 2s 3ms/step - loss: 0.5707 - accuracy: 0.8274\n"
     ]
    },
    {
     "data": {
      "text/plain": [
       "<tensorflow.python.keras.callbacks.History at 0x7f19006460f0>"
      ]
     },
     "execution_count": 17,
     "metadata": {
      "tags": []
     },
     "output_type": "execute_result"
    }
   ],
   "source": [
    "# didn't rebuild the model\r\n",
    "\r\n",
    "model.fit(x_train_reg, y_train_cat, epochs=20, batch_size=64)"
   ]
  },
  {
   "cell_type": "markdown",
   "metadata": {
    "id": "J0qFLtP9ifzb"
   },
   "source": [
    "--------\r\n",
    "\r\n",
    "## <font color='orange'>**Mk. 4**<font/>\r\n",
    "\r\n",
    "Alright! Major improvement. A jump from 11% to **86%** accuracy isn't bad.<br/><br/>\r\n",
    "\r\n",
    "A keen observer might note here that the accuracy starts improving from the 8th epoch, whereas according to our previous run of the model it should at least remain the same till 10th epoch, since we haven't made any changes to the model architecture.<br/><br/>\r\n",
    "\r\n",
    "The reason is that we didn't call ``define_classifier()`` and **rebuild** our model. We called the fit function on the previously trained model itself. This allowed our model to use the knowledge gained from its previous run.<br/>\r\n",
    "This is just something to note, you don't **have** to do this.\r\n",
    "\r\n",
    "-----------\r\n",
    "\r\n",
    "Okay, let's try to improve the accuracy even further. Maybe the depth is still an issue.<br/>\r\n",
    " We add another layer of 256 units."
   ]
  },
  {
   "cell_type": "code",
   "execution_count": null,
   "metadata": {
    "id": "Dznq6so9KapK"
   },
   "outputs": [],
   "source": [
    "def define_classifier(image_shape):\r\n",
    "\r\n",
    "  init = RandomNormal(stddev=0.02)\r\n",
    "  in_image = Input(shape=image_shape)\r\n",
    "\r\n",
    "  c = Flatten()(in_image)\r\n",
    "\r\n",
    "  c = Dense(32, activation='relu', kernel_initializer=init)(c)\r\n",
    "  c = Dropout(0.1)(c)\r\n",
    "\r\n",
    "  c = Dense(64, activation='relu', kernel_initializer=init)(c)\r\n",
    "  c = Dropout(0.1)(c)\r\n",
    "\r\n",
    "  c = Dense(128, activation='relu', kernel_initializer=init)(c)\r\n",
    "  c = Dropout(0.2)(c)\r\n",
    "\r\n",
    "  c = Dense(256, activation='relu', kernel_initializer=init)(c)\r\n",
    "  c = Dropout(0.3)(c)\r\n",
    "\r\n",
    "  c = Dense(256, activation='relu', kernel_initializer=init)(c)\r\n",
    "  c = Dropout(0.4)(c)\r\n",
    "\r\n",
    "  out = Dense(10, activation = 'softmax', kernel_initializer=init)(c)\r\n",
    "\r\n",
    "  model = Model(in_image, out)\r\n",
    "  model.compile(loss='categorical_crossentropy', optimizer='sgd', metrics=['accuracy'])\r\n",
    "    \r\n",
    "  return model"
   ]
  },
  {
   "cell_type": "code",
   "execution_count": null,
   "metadata": {
    "colab": {
     "base_uri": "https://localhost:8080/"
    },
    "id": "-fd2_CV2K9rO",
    "outputId": "8323aeb6-7cab-4e43-f97e-bbba9c83d88b"
   },
   "outputs": [
    {
     "name": "stdout",
     "output_type": "stream",
     "text": [
      "Model: \"model_2\"\n",
      "_________________________________________________________________\n",
      "Layer (type)                 Output Shape              Param #   \n",
      "=================================================================\n",
      "input_3 (InputLayer)         [(None, 28, 28, 1)]       0         \n",
      "_________________________________________________________________\n",
      "flatten_2 (Flatten)          (None, 784)               0         \n",
      "_________________________________________________________________\n",
      "dense_9 (Dense)              (None, 32)                25120     \n",
      "_________________________________________________________________\n",
      "dropout_7 (Dropout)          (None, 32)                0         \n",
      "_________________________________________________________________\n",
      "dense_10 (Dense)             (None, 64)                2112      \n",
      "_________________________________________________________________\n",
      "dropout_8 (Dropout)          (None, 64)                0         \n",
      "_________________________________________________________________\n",
      "dense_11 (Dense)             (None, 128)               8320      \n",
      "_________________________________________________________________\n",
      "dropout_9 (Dropout)          (None, 128)               0         \n",
      "_________________________________________________________________\n",
      "dense_12 (Dense)             (None, 256)               33024     \n",
      "_________________________________________________________________\n",
      "dropout_10 (Dropout)         (None, 256)               0         \n",
      "_________________________________________________________________\n",
      "dense_13 (Dense)             (None, 256)               65792     \n",
      "_________________________________________________________________\n",
      "dropout_11 (Dropout)         (None, 256)               0         \n",
      "_________________________________________________________________\n",
      "dense_14 (Dense)             (None, 10)                2570      \n",
      "=================================================================\n",
      "Total params: 136,938\n",
      "Trainable params: 136,938\n",
      "Non-trainable params: 0\n",
      "_________________________________________________________________\n"
     ]
    }
   ],
   "source": [
    "model = define_classifier((28,28,1))\r\n",
    "model.summary()"
   ]
  },
  {
   "cell_type": "code",
   "execution_count": null,
   "metadata": {
    "colab": {
     "base_uri": "https://localhost:8080/"
    },
    "id": "H5miYLrrK-cV",
    "outputId": "f615e826-0f87-4a73-cfb3-87f7cc3b743b"
   },
   "outputs": [
    {
     "name": "stdout",
     "output_type": "stream",
     "text": [
      "Epoch 1/20\n",
      "938/938 [==============================] - 4s 4ms/step - loss: 2.3022 - accuracy: 0.1092\n",
      "Epoch 2/20\n",
      "938/938 [==============================] - 4s 4ms/step - loss: 2.3013 - accuracy: 0.1115\n",
      "Epoch 3/20\n",
      "938/938 [==============================] - 4s 4ms/step - loss: 2.3012 - accuracy: 0.1137\n",
      "Epoch 4/20\n",
      "938/938 [==============================] - 4s 4ms/step - loss: 2.3010 - accuracy: 0.1136\n",
      "Epoch 5/20\n",
      "938/938 [==============================] - 4s 5ms/step - loss: 2.3013 - accuracy: 0.1116\n",
      "Epoch 6/20\n",
      "938/938 [==============================] - 4s 5ms/step - loss: 2.3012 - accuracy: 0.1114\n",
      "Epoch 7/20\n",
      "938/938 [==============================] - 4s 4ms/step - loss: 2.3014 - accuracy: 0.1117\n",
      "Epoch 8/20\n",
      "938/938 [==============================] - 4s 4ms/step - loss: 2.3011 - accuracy: 0.1124\n",
      "Epoch 9/20\n",
      "938/938 [==============================] - 4s 4ms/step - loss: 2.3010 - accuracy: 0.1119\n",
      "Epoch 10/20\n",
      "938/938 [==============================] - 4s 4ms/step - loss: 2.3013 - accuracy: 0.1096\n",
      "Epoch 11/20\n",
      "938/938 [==============================] - 4s 4ms/step - loss: 2.3012 - accuracy: 0.1135\n",
      "Epoch 12/20\n",
      "938/938 [==============================] - 4s 4ms/step - loss: 2.3012 - accuracy: 0.1136\n",
      "Epoch 13/20\n",
      "938/938 [==============================] - 4s 4ms/step - loss: 2.3011 - accuracy: 0.1120\n",
      "Epoch 14/20\n",
      "938/938 [==============================] - 4s 4ms/step - loss: 2.3015 - accuracy: 0.1113\n",
      "Epoch 15/20\n",
      "938/938 [==============================] - 4s 4ms/step - loss: 2.3014 - accuracy: 0.1093\n",
      "Epoch 16/20\n",
      "938/938 [==============================] - 4s 4ms/step - loss: 2.3010 - accuracy: 0.1120\n",
      "Epoch 17/20\n",
      "938/938 [==============================] - 4s 4ms/step - loss: 2.3010 - accuracy: 0.1126\n",
      "Epoch 18/20\n",
      "938/938 [==============================] - 4s 4ms/step - loss: 2.3011 - accuracy: 0.1116\n",
      "Epoch 19/20\n",
      "938/938 [==============================] - 4s 4ms/step - loss: 2.3010 - accuracy: 0.1146\n",
      "Epoch 20/20\n",
      "938/938 [==============================] - 4s 4ms/step - loss: 2.3013 - accuracy: 0.1121\n"
     ]
    },
    {
     "data": {
      "text/plain": [
       "<tensorflow.python.keras.callbacks.History at 0x7f1900627be0>"
      ]
     },
     "execution_count": 20,
     "metadata": {
      "tags": []
     },
     "output_type": "execute_result"
    }
   ],
   "source": [
    "model.fit(x_train_reg, y_train_cat, epochs=20, batch_size=64)"
   ]
  },
  {
   "cell_type": "markdown",
   "metadata": {
    "id": "BnJLrYb_luRC"
   },
   "source": [
    "------------\r\n",
    "\r\n",
    "## <font color='orange'>**Mk. 5**<font/>\r\n",
    "\r\n",
    "Bad choice. Our accuracy has dropped again.<br/><br/>\r\n",
    "\r\n",
    "We can't really say what the reason is here. Because as per our previous experience, increasing the model capacity shouldn't harm the model in this way.<br/>\r\n",
    "\r\n",
    " Maybe we made the model overly complex and it **failed to converge**? We need to investigate this behaviour. Re-build the model and train it multiple times to check if the optimizer isn't the problem<br/><br/>\r\n",
    "\r\n",
    " Let's keep the architecture as it is, and change the optimizer from SGD to Adam (adaptive Moments). More on it [here](https://arxiv.org/abs/1412.6980)."
   ]
  },
  {
   "cell_type": "code",
   "execution_count": null,
   "metadata": {
    "id": "mKr7NhGkLDid"
   },
   "outputs": [],
   "source": [
    "def define_classifier(image_shape):\r\n",
    "\r\n",
    "  init = RandomNormal(stddev=0.02)\r\n",
    "  in_image = Input(shape=image_shape)\r\n",
    "\r\n",
    "  c = Flatten()(in_image)\r\n",
    "\r\n",
    "  c = Dense(32, activation='relu', kernel_initializer=init)(c)\r\n",
    "  c = Dropout(0.1)(c)\r\n",
    "\r\n",
    "  c = Dense(64, activation='relu', kernel_initializer=init)(c)\r\n",
    "  c = Dropout(0.1)(c)\r\n",
    "\r\n",
    "  c = Dense(128, activation='relu', kernel_initializer=init)(c)\r\n",
    "  c = Dropout(0.2)(c)\r\n",
    "\r\n",
    "  c = Dense(256, activation='relu', kernel_initializer=init)(c)\r\n",
    "  c = Dropout(0.3)(c)\r\n",
    "\r\n",
    "  c = Dense(256, activation='relu', kernel_initializer=init)(c)\r\n",
    "  c = Dropout(0.4)(c)\r\n",
    "\r\n",
    "  out = Dense(10, activation = 'softmax', kernel_initializer=init)(c)\r\n",
    "\r\n",
    "  model = Model(in_image, out)\r\n",
    "  model.compile(loss='categorical_crossentropy', optimizer='adam', metrics=['accuracy'])\r\n",
    "    \r\n",
    "  return model"
   ]
  },
  {
   "cell_type": "code",
   "execution_count": null,
   "metadata": {
    "id": "cusa-53VL-Jb"
   },
   "outputs": [],
   "source": [
    "model = define_classifier((28,28,1))"
   ]
  },
  {
   "cell_type": "code",
   "execution_count": null,
   "metadata": {
    "colab": {
     "base_uri": "https://localhost:8080/"
    },
    "id": "rdKYRaqIMCPl",
    "outputId": "16806167-f9a4-43d8-afb7-001e014e5853"
   },
   "outputs": [
    {
     "name": "stdout",
     "output_type": "stream",
     "text": [
      "Epoch 1/20\n",
      "938/938 [==============================] - 5s 5ms/step - loss: 1.4602 - accuracy: 0.4229\n",
      "Epoch 2/20\n",
      "938/938 [==============================] - 5s 5ms/step - loss: 0.4210 - accuracy: 0.8878\n",
      "Epoch 3/20\n",
      "938/938 [==============================] - 5s 5ms/step - loss: 0.3053 - accuracy: 0.9213\n",
      "Epoch 4/20\n",
      "938/938 [==============================] - 4s 5ms/step - loss: 0.2523 - accuracy: 0.9326\n",
      "Epoch 5/20\n",
      "938/938 [==============================] - 5s 5ms/step - loss: 0.2288 - accuracy: 0.9371\n",
      "Epoch 6/20\n",
      "938/938 [==============================] - 4s 5ms/step - loss: 0.2096 - accuracy: 0.9431\n",
      "Epoch 7/20\n",
      "938/938 [==============================] - 5s 5ms/step - loss: 0.2004 - accuracy: 0.9449\n",
      "Epoch 8/20\n",
      "938/938 [==============================] - 5s 5ms/step - loss: 0.1904 - accuracy: 0.9485\n",
      "Epoch 9/20\n",
      "938/938 [==============================] - 5s 5ms/step - loss: 0.1855 - accuracy: 0.9491\n",
      "Epoch 10/20\n",
      "938/938 [==============================] - 5s 5ms/step - loss: 0.1678 - accuracy: 0.9534\n",
      "Epoch 11/20\n",
      "938/938 [==============================] - 5s 5ms/step - loss: 0.1662 - accuracy: 0.9536\n",
      "Epoch 12/20\n",
      "938/938 [==============================] - 5s 5ms/step - loss: 0.1593 - accuracy: 0.9548\n",
      "Epoch 13/20\n",
      "938/938 [==============================] - 4s 5ms/step - loss: 0.1525 - accuracy: 0.9566\n",
      "Epoch 14/20\n",
      "938/938 [==============================] - 5s 5ms/step - loss: 0.1508 - accuracy: 0.9574\n",
      "Epoch 15/20\n",
      "938/938 [==============================] - 5s 5ms/step - loss: 0.1513 - accuracy: 0.9574\n",
      "Epoch 16/20\n",
      "938/938 [==============================] - 5s 5ms/step - loss: 0.1452 - accuracy: 0.9588\n",
      "Epoch 17/20\n",
      "938/938 [==============================] - 5s 5ms/step - loss: 0.1420 - accuracy: 0.9597\n",
      "Epoch 18/20\n",
      "938/938 [==============================] - 5s 5ms/step - loss: 0.1400 - accuracy: 0.9607\n",
      "Epoch 19/20\n",
      "938/938 [==============================] - 5s 5ms/step - loss: 0.1301 - accuracy: 0.9630\n",
      "Epoch 20/20\n",
      "938/938 [==============================] - 5s 5ms/step - loss: 0.1340 - accuracy: 0.9620\n"
     ]
    },
    {
     "data": {
      "text/plain": [
       "<tensorflow.python.keras.callbacks.History at 0x7f18ff46c6d8>"
      ]
     },
     "execution_count": 23,
     "metadata": {
      "tags": []
     },
     "output_type": "execute_result"
    }
   ],
   "source": [
    "model.fit(x_train_reg, y_train_cat, epochs=20, batch_size=64)"
   ]
  },
  {
   "cell_type": "markdown",
   "metadata": {
    "id": "gGVuSsRRnON2"
   },
   "source": [
    "--------------\r\n",
    "\r\n",
    "Okay! The accuracy has increased in a major way, and right from the 2nd epoch.<br/>\r\n",
    "You might want to take some time here (not during the lecture :D) to think on why the change to Adam optimizer affected the model this much. Please keep in mind our previous attempts too.<br/><br/>\r\n",
    "\r\n",
    "Alright, with **96%** training accuracy, our model is good enough to test. We need to see if it has **overfitted** on our training data or not.\r\n",
    "\r\n",
    "----------\r\n",
    "\r\n",
    "``model.evaluate`` here does the testing for us. We need to pass our test images ``x_test_reg`` and corresponding labels ``y_test_cat`` as arguments. It will return a list with loss and accuracy values."
   ]
  },
  {
   "cell_type": "code",
   "execution_count": null,
   "metadata": {
    "colab": {
     "base_uri": "https://localhost:8080/"
    },
    "id": "5KL0p3kCMEh1",
    "outputId": "bf225940-f4cc-4701-f495-910813e4c2c7"
   },
   "outputs": [
    {
     "name": "stdout",
     "output_type": "stream",
     "text": [
      "Test loss: 0.13050980865955353\n",
      "Test accuracy: 0.9646999835968018\n"
     ]
    }
   ],
   "source": [
    "score = model.evaluate(x_test_reg, y_test_cat, verbose=0)\r\n",
    "print(\"Test loss:\", score[0])\r\n",
    "print(\"Test accuracy:\", score[1])"
   ]
  },
  {
   "cell_type": "markdown",
   "metadata": {
    "id": "UQ7mlthwpN2C"
   },
   "source": [
    "-----------\r\n",
    "\r\n",
    "Testing accuracy is the same as training accuracy, **96%**. Nice!"
   ]
  },
  {
   "cell_type": "markdown",
   "metadata": {
    "id": "WdC2c_nepkdR"
   },
   "source": [
    "-------------\r\n",
    "\r\n",
    "## <font color='orange'>**Mk. 6**<font/>\r\n",
    "\r\n",
    "We haven't checked what chaning the ``batch_size`` does to our model. Let's try that and increase the size to 128.<br/>\r\n",
    "The batch size is recommended to be a power of 2 for GPU\r\n",
    "optimization purposes."
   ]
  },
  {
   "cell_type": "code",
   "execution_count": null,
   "metadata": {
    "colab": {
     "base_uri": "https://localhost:8080/"
    },
    "id": "CvidNYarMsk9",
    "outputId": "3709841a-c971-446e-9278-2b4412303d33"
   },
   "outputs": [
    {
     "name": "stdout",
     "output_type": "stream",
     "text": [
      "Epoch 1/20\n",
      "469/469 [==============================] - 4s 7ms/step - loss: 1.4961 - accuracy: 0.4284\n",
      "Epoch 2/20\n",
      "469/469 [==============================] - 3s 7ms/step - loss: 0.4284 - accuracy: 0.8757\n",
      "Epoch 3/20\n",
      "469/469 [==============================] - 3s 7ms/step - loss: 0.3168 - accuracy: 0.9124\n",
      "Epoch 4/20\n",
      "469/469 [==============================] - 3s 7ms/step - loss: 0.2683 - accuracy: 0.9248\n",
      "Epoch 5/20\n",
      "469/469 [==============================] - 3s 7ms/step - loss: 0.2413 - accuracy: 0.9318\n",
      "Epoch 6/20\n",
      "469/469 [==============================] - 3s 7ms/step - loss: 0.2289 - accuracy: 0.9365\n",
      "Epoch 7/20\n",
      "469/469 [==============================] - 3s 7ms/step - loss: 0.2057 - accuracy: 0.9421\n",
      "Epoch 8/20\n",
      "469/469 [==============================] - 3s 7ms/step - loss: 0.1991 - accuracy: 0.9447\n",
      "Epoch 9/20\n",
      "469/469 [==============================] - 3s 7ms/step - loss: 0.1951 - accuracy: 0.9470\n",
      "Epoch 10/20\n",
      "469/469 [==============================] - 3s 7ms/step - loss: 0.1740 - accuracy: 0.9513\n",
      "Epoch 11/20\n",
      "469/469 [==============================] - 3s 7ms/step - loss: 0.1704 - accuracy: 0.9531\n",
      "Epoch 12/20\n",
      "469/469 [==============================] - 3s 7ms/step - loss: 0.1642 - accuracy: 0.9552\n",
      "Epoch 13/20\n",
      "469/469 [==============================] - 3s 7ms/step - loss: 0.1529 - accuracy: 0.9570\n",
      "Epoch 14/20\n",
      "469/469 [==============================] - 3s 7ms/step - loss: 0.1519 - accuracy: 0.9574\n",
      "Epoch 15/20\n",
      "469/469 [==============================] - 3s 7ms/step - loss: 0.1490 - accuracy: 0.9586\n",
      "Epoch 16/20\n",
      "469/469 [==============================] - 3s 7ms/step - loss: 0.1436 - accuracy: 0.9603\n",
      "Epoch 17/20\n",
      "469/469 [==============================] - 3s 7ms/step - loss: 0.1450 - accuracy: 0.9596\n",
      "Epoch 18/20\n",
      "469/469 [==============================] - 3s 7ms/step - loss: 0.1326 - accuracy: 0.9633\n",
      "Epoch 19/20\n",
      "469/469 [==============================] - 3s 7ms/step - loss: 0.1330 - accuracy: 0.9629\n",
      "Epoch 20/20\n",
      "469/469 [==============================] - 3s 7ms/step - loss: 0.1434 - accuracy: 0.9602\n"
     ]
    },
    {
     "data": {
      "text/plain": [
       "<tensorflow.python.keras.callbacks.History at 0x7f18fe272518>"
      ]
     },
     "execution_count": 25,
     "metadata": {
      "tags": []
     },
     "output_type": "execute_result"
    }
   ],
   "source": [
    "model = define_classifier((28,28,1))\r\n",
    "model.fit(x_train_reg, y_train_cat, epochs=20, batch_size=128)"
   ]
  },
  {
   "cell_type": "markdown",
   "metadata": {
    "id": "k0oSfZe9qDMg"
   },
   "source": [
    "------------\r\n",
    "\r\n",
    "## <font color='orange'>**Mk. 7**<font/>\r\n",
    "\r\n",
    "Okay, not that much change. It's actually starting to decrease the accuracy.<br/>\r\n",
    "More on that [here](https://stats.stackexchange.com/questions/164876/what-is-the-trade-off-between-batch-size-and-number-of-iterations-to-train-a-neu).<br/><br/>\r\n",
    "\r\n",
    "Let us increase the depth of our model even further. Since our optimizer choice was so good, we are hoping it can handle a model of increased depth.<br/>\r\n",
    "\r\n",
    "We add another layer of 512 units."
   ]
  },
  {
   "cell_type": "code",
   "execution_count": null,
   "metadata": {
    "id": "wMVdfdyYPS9F"
   },
   "outputs": [],
   "source": [
    "def define_classifier(image_shape):\r\n",
    "\r\n",
    "  init = RandomNormal(stddev=0.02)\r\n",
    "  in_image = Input(shape=image_shape)\r\n",
    "\r\n",
    "  c = Flatten()(in_image)\r\n",
    "\r\n",
    "  c = Dense(64, activation='relu', kernel_initializer=init)(c)\r\n",
    "  c = Dropout(0.1)(c)\r\n",
    "\r\n",
    "  c = Dense(128, activation='relu', kernel_initializer=init)(c)\r\n",
    "  c = Dropout(0.1)(c)\r\n",
    "\r\n",
    "  c = Dense(256, activation='relu', kernel_initializer=init)(c)\r\n",
    "  c = Dropout(0.3)(c)\r\n",
    "\r\n",
    "  c = Dense(256, activation='relu', kernel_initializer=init)(c)\r\n",
    "  c = Dropout(0.3)(c)\r\n",
    "\r\n",
    "  c = Dense(512, activation='relu', kernel_initializer=init)(c)\r\n",
    "  c = Dropout(0.4)(c)\r\n",
    "\r\n",
    "  out = Dense(10, activation = 'softmax', kernel_initializer=init)(c)\r\n",
    "\r\n",
    "  model = Model(in_image, out)\r\n",
    "  model.compile(loss='categorical_crossentropy', optimizer='adam', metrics=['accuracy'])\r\n",
    "    \r\n",
    "  return model"
   ]
  },
  {
   "cell_type": "code",
   "execution_count": null,
   "metadata": {
    "colab": {
     "base_uri": "https://localhost:8080/"
    },
    "id": "4zAROySlQzM3",
    "outputId": "9850aafb-82ba-438b-d120-3a5bfec2934e"
   },
   "outputs": [
    {
     "name": "stdout",
     "output_type": "stream",
     "text": [
      "Model: \"model_5\"\n",
      "_________________________________________________________________\n",
      "Layer (type)                 Output Shape              Param #   \n",
      "=================================================================\n",
      "input_6 (InputLayer)         [(None, 28, 28, 1)]       0         \n",
      "_________________________________________________________________\n",
      "flatten_5 (Flatten)          (None, 784)               0         \n",
      "_________________________________________________________________\n",
      "dense_27 (Dense)             (None, 64)                50240     \n",
      "_________________________________________________________________\n",
      "dropout_22 (Dropout)         (None, 64)                0         \n",
      "_________________________________________________________________\n",
      "dense_28 (Dense)             (None, 128)               8320      \n",
      "_________________________________________________________________\n",
      "dropout_23 (Dropout)         (None, 128)               0         \n",
      "_________________________________________________________________\n",
      "dense_29 (Dense)             (None, 256)               33024     \n",
      "_________________________________________________________________\n",
      "dropout_24 (Dropout)         (None, 256)               0         \n",
      "_________________________________________________________________\n",
      "dense_30 (Dense)             (None, 256)               65792     \n",
      "_________________________________________________________________\n",
      "dropout_25 (Dropout)         (None, 256)               0         \n",
      "_________________________________________________________________\n",
      "dense_31 (Dense)             (None, 512)               131584    \n",
      "_________________________________________________________________\n",
      "dropout_26 (Dropout)         (None, 512)               0         \n",
      "_________________________________________________________________\n",
      "dense_32 (Dense)             (None, 10)                5130      \n",
      "=================================================================\n",
      "Total params: 294,090\n",
      "Trainable params: 294,090\n",
      "Non-trainable params: 0\n",
      "_________________________________________________________________\n"
     ]
    }
   ],
   "source": [
    "model = define_classifier((28,28,1))\r\n",
    "model.summary()"
   ]
  },
  {
   "cell_type": "code",
   "execution_count": null,
   "metadata": {
    "colab": {
     "base_uri": "https://localhost:8080/"
    },
    "id": "s1SP-ZNJQ28C",
    "outputId": "a0c4db03-3cb3-4296-cb82-2b81c22853ef"
   },
   "outputs": [
    {
     "name": "stdout",
     "output_type": "stream",
     "text": [
      "Epoch 1/20\n",
      "938/938 [==============================] - 8s 8ms/step - loss: 1.0060 - accuracy: 0.6305\n",
      "Epoch 2/20\n",
      "938/938 [==============================] - 8s 8ms/step - loss: 0.2220 - accuracy: 0.9385\n",
      "Epoch 3/20\n",
      "938/938 [==============================] - 7s 8ms/step - loss: 0.1726 - accuracy: 0.9524\n",
      "Epoch 4/20\n",
      "938/938 [==============================] - 7s 8ms/step - loss: 0.1465 - accuracy: 0.9602\n",
      "Epoch 5/20\n",
      "938/938 [==============================] - 7s 8ms/step - loss: 0.1260 - accuracy: 0.9648\n",
      "Epoch 6/20\n",
      "938/938 [==============================] - 8s 8ms/step - loss: 0.1189 - accuracy: 0.9666\n",
      "Epoch 7/20\n",
      "938/938 [==============================] - 8s 8ms/step - loss: 0.1105 - accuracy: 0.9696\n",
      "Epoch 8/20\n",
      "938/938 [==============================] - 8s 8ms/step - loss: 0.0962 - accuracy: 0.9726\n",
      "Epoch 9/20\n",
      "938/938 [==============================] - 8s 8ms/step - loss: 0.0942 - accuracy: 0.9736\n",
      "Epoch 10/20\n",
      "938/938 [==============================] - 8s 8ms/step - loss: 0.0883 - accuracy: 0.9757\n",
      "Epoch 11/20\n",
      "938/938 [==============================] - 7s 8ms/step - loss: 0.0850 - accuracy: 0.9753\n",
      "Epoch 12/20\n",
      "938/938 [==============================] - 8s 8ms/step - loss: 0.0751 - accuracy: 0.9781\n",
      "Epoch 13/20\n",
      "938/938 [==============================] - 8s 9ms/step - loss: 0.0830 - accuracy: 0.9775\n",
      "Epoch 14/20\n",
      "938/938 [==============================] - 8s 8ms/step - loss: 0.0801 - accuracy: 0.9772\n",
      "Epoch 15/20\n",
      "938/938 [==============================] - 8s 9ms/step - loss: 0.0727 - accuracy: 0.9783\n",
      "Epoch 16/20\n",
      "938/938 [==============================] - 11s 12ms/step - loss: 0.0668 - accuracy: 0.9813\n",
      "Epoch 17/20\n",
      "938/938 [==============================] - 8s 9ms/step - loss: 0.0678 - accuracy: 0.9807\n",
      "Epoch 18/20\n",
      "938/938 [==============================] - 7s 8ms/step - loss: 0.0689 - accuracy: 0.9812\n",
      "Epoch 19/20\n",
      "938/938 [==============================] - 8s 8ms/step - loss: 0.0638 - accuracy: 0.9819\n",
      "Epoch 20/20\n",
      "938/938 [==============================] - 8s 8ms/step - loss: 0.0638 - accuracy: 0.9823\n"
     ]
    },
    {
     "data": {
      "text/plain": [
       "<tensorflow.python.keras.callbacks.History at 0x7f18fd90b908>"
      ]
     },
     "execution_count": 28,
     "metadata": {
      "tags": []
     },
     "output_type": "execute_result"
    }
   ],
   "source": [
    "# bigger not always better. > train time. try to increase compactness\r\n",
    "\r\n",
    "model.fit(x_train_reg, y_train_cat, epochs=20, batch_size=64)"
   ]
  },
  {
   "cell_type": "markdown",
   "metadata": {
    "id": "uYVnfJ7rrA2Y"
   },
   "source": [
    "---------\r\n",
    "\r\n",
    "Okay, we have pushed it beyond **98%**.<br/>\r\n",
    "You might be starting to notice the increased training time now."
   ]
  },
  {
   "cell_type": "code",
   "execution_count": null,
   "metadata": {
    "colab": {
     "base_uri": "https://localhost:8080/"
    },
    "id": "XZ-sTyiZRGZd",
    "outputId": "356e02ac-18af-485c-b3e2-259bbdd24a62"
   },
   "outputs": [
    {
     "name": "stdout",
     "output_type": "stream",
     "text": [
      "Test loss: 0.09701474756002426\n",
      "Test accuracy: 0.9768999814987183\n"
     ]
    }
   ],
   "source": [
    "score = model.evaluate(x_test_reg, y_test_cat, verbose=0)\r\n",
    "print(\"Test loss:\", score[0])\r\n",
    "print(\"Test accuracy:\", score[1])"
   ]
  },
  {
   "cell_type": "markdown",
   "metadata": {
    "id": "n3CQ20dnrVz8"
   },
   "source": [
    "-----------\r\n",
    "\r\n",
    "## <font color='orange'>**Points to Note**<font/>\r\n",
    "\r\n",
    "Test accuracy has decreased a bit but our model is good enough.<br/>\r\n",
    "Please note, that a deeper model might not always be the best idea. It depends on the scenario really.<br/><br/>\r\n",
    "For a nominal percentage increase in accuracy in an image model, building a model that takes twice as long to train is not a good trade-off.<br/>\r\n",
    "This small percentage will have no consequence in production in case of image classification or recognition models.<br/>\r\n",
    "However, a small percentage increase in an ML model used in the financial sector, may equal to millions in revenue.<br/><br/>\r\n",
    "Evaluate your data and scenario and choose your architecture wisely."
   ]
  },
  {
   "cell_type": "markdown",
   "metadata": {
    "id": "KKq-Y9Y6s0BL"
   },
   "source": [
    "-------------\r\n",
    "\r\n",
    "## <font color='orange'>**Blind Run**<font/>\r\n",
    "\r\n",
    "Let us now train the same model on a completely new dataset and see how it performs.<br/>\r\n",
    "**We are not going to fine-tune our model here. This is just to see how it holds up against images with increased complexity.**"
   ]
  },
  {
   "cell_type": "markdown",
   "metadata": {
    "id": "41s8UFZntdmZ"
   },
   "source": [
    "------------\r\n",
    "\r\n",
    "# <font color='orange'>**Fashion MNIST Dataset**<font/>\r\n",
    "\r\n",
    "This is a dataset of 60,000 28x28 grayscale images of 10 fashion categories, along with a test set of 10,000 images.\r\n",
    "\r\n",
    "(Label, \tDescription)<br/>\r\n",
    "(0, \tT-shirt/top)\r\n",
    "(1, \tTrouser)\r\n",
    "(2, \tPullover)\r\n",
    "(3, \tDress)\r\n",
    "(4, \tCoat)\r\n",
    "(5, \tSandal)\r\n",
    "(6, \tShirt)\r\n",
    "(7, \tSneaker)\r\n",
    "(8, \tBag)\r\n",
    "(9, \tAnkle boot)"
   ]
  },
  {
   "cell_type": "code",
   "execution_count": null,
   "metadata": {
    "id": "e9uu5wL3R4WJ"
   },
   "outputs": [],
   "source": [
    "from tensorflow.keras.datasets import fashion_mnist"
   ]
  },
  {
   "cell_type": "code",
   "execution_count": null,
   "metadata": {
    "colab": {
     "base_uri": "https://localhost:8080/"
    },
    "id": "PURjJ0xKS9Qw",
    "outputId": "16ed97b4-eb7e-47d3-e48f-b1f389be45f9"
   },
   "outputs": [
    {
     "name": "stdout",
     "output_type": "stream",
     "text": [
      "Downloading data from https://storage.googleapis.com/tensorflow/tf-keras-datasets/train-labels-idx1-ubyte.gz\n",
      "32768/29515 [=================================] - 0s 0us/step\n",
      "Downloading data from https://storage.googleapis.com/tensorflow/tf-keras-datasets/train-images-idx3-ubyte.gz\n",
      "26427392/26421880 [==============================] - 0s 0us/step\n",
      "Downloading data from https://storage.googleapis.com/tensorflow/tf-keras-datasets/t10k-labels-idx1-ubyte.gz\n",
      "8192/5148 [===============================================] - 0s 0us/step\n",
      "Downloading data from https://storage.googleapis.com/tensorflow/tf-keras-datasets/t10k-images-idx3-ubyte.gz\n",
      "4423680/4422102 [==============================] - 0s 0us/step\n",
      "(60000, 28, 28) (10000, 28, 28)\n"
     ]
    }
   ],
   "source": [
    "(x_train, y_train), (x_test, y_test) = fashion_mnist.load_data()\r\n",
    "print(x_train.shape, x_test.shape)"
   ]
  },
  {
   "cell_type": "code",
   "execution_count": null,
   "metadata": {
    "colab": {
     "base_uri": "https://localhost:8080/",
     "height": 157
    },
    "id": "pa0dQ-LKTDM4",
    "outputId": "da6873a4-4978-490c-8fee-327522ce52ee"
   },
   "outputs": [
    {
     "name": "stdout",
     "output_type": "stream",
     "text": [
      "9\n"
     ]
    },
    {
     "data": {
      "image/png": "[encoded data removed]",
      "text/plain": [
       "<Figure size 144x144 with 1 Axes>"
      ]
     },
     "metadata": {
      "needs_background": "light",
      "tags": []
     },
     "output_type": "display_data"
    }
   ],
   "source": [
    "plt.figure(figsize=(2,2))   # 2 X 2 inches, 1 inch ~ 80 pixels\r\n",
    "plt.axis(\"off\")\r\n",
    "plt.imshow(x_train[0], cmap='Greys')\r\n",
    "print(y_train[0])"
   ]
  },
  {
   "cell_type": "markdown",
   "metadata": {
    "id": "WbT_TPgzuZHu"
   },
   "source": [
    "--------------\r\n",
    "\r\n",
    "As you can see from the sample image above, it is noticeably more complex than an image of a handwritten digit.\r\n",
    "\r\n",
    "-----------"
   ]
  },
  {
   "cell_type": "code",
   "execution_count": null,
   "metadata": {
    "colab": {
     "base_uri": "https://localhost:8080/",
     "height": 387
    },
    "id": "QPnBpSnMTTIg",
    "outputId": "c477560e-f911-433b-8bf5-672c078edcd0"
   },
   "outputs": [
    {
     "data": {
      "text/plain": [
       "(array([6000., 6000., 6000., 6000., 6000., 6000., 6000., 6000., 6000.,\n",
       "        6000.]),\n",
       " array([0. , 0.9, 1.8, 2.7, 3.6, 4.5, 5.4, 6.3, 7.2, 8.1, 9. ]),\n",
       " <a list of 10 Patch objects>)"
      ]
     },
     "execution_count": 33,
     "metadata": {
      "tags": []
     },
     "output_type": "execute_result"
    },
    {
     "data": {
      "image/png": "[encoded data removed]",
      "text/plain": [
       "<Figure size 720x360 with 1 Axes>"
      ]
     },
     "metadata": {
      "needs_background": "light",
      "tags": []
     },
     "output_type": "display_data"
    }
   ],
   "source": [
    "# check even distribution\r\n",
    "\r\n",
    "plt.figure(figsize=(10,5))\r\n",
    "plt.hist(y_train, edgecolor='white', linewidth=2)"
   ]
  },
  {
   "cell_type": "code",
   "execution_count": null,
   "metadata": {
    "id": "CuIep0DATaRA"
   },
   "outputs": [],
   "source": [
    "# one-hot encoding and normalization\r\n",
    "\r\n",
    "y_train_cat = to_categorical(y_train)\r\n",
    "y_test_cat = to_categorical(y_test)\r\n",
    "x_train_reg = x_train.astype('float32') / 255.0\r\n",
    "x_test_reg = x_test.astype('float32') / 255.0"
   ]
  },
  {
   "cell_type": "code",
   "execution_count": null,
   "metadata": {
    "colab": {
     "base_uri": "https://localhost:8080/"
    },
    "id": "g7ni6KuJTnLT",
    "outputId": "74fd05e5-caad-4140-a0d2-e5f9c86f214e"
   },
   "outputs": [
    {
     "name": "stdout",
     "output_type": "stream",
     "text": [
      "Epoch 1/20\n",
      "938/938 [==============================] - 8s 8ms/step - loss: 1.1698 - accuracy: 0.5196\n",
      "Epoch 2/20\n",
      "938/938 [==============================] - 7s 8ms/step - loss: 0.5601 - accuracy: 0.7916\n",
      "Epoch 3/20\n",
      "938/938 [==============================] - 8s 8ms/step - loss: 0.4760 - accuracy: 0.8272\n",
      "Epoch 4/20\n",
      "938/938 [==============================] - 7s 8ms/step - loss: 0.4323 - accuracy: 0.8467\n",
      "Epoch 5/20\n",
      "938/938 [==============================] - 8s 8ms/step - loss: 0.4007 - accuracy: 0.8569\n",
      "Epoch 6/20\n",
      "938/938 [==============================] - 8s 8ms/step - loss: 0.3849 - accuracy: 0.8658\n",
      "Epoch 7/20\n",
      "938/938 [==============================] - 8s 8ms/step - loss: 0.3648 - accuracy: 0.8691\n",
      "Epoch 8/20\n",
      "938/938 [==============================] - 8s 8ms/step - loss: 0.3557 - accuracy: 0.8757\n",
      "Epoch 9/20\n",
      "938/938 [==============================] - 8s 9ms/step - loss: 0.3438 - accuracy: 0.8772\n",
      "Epoch 10/20\n",
      "938/938 [==============================] - 7s 8ms/step - loss: 0.3392 - accuracy: 0.8773\n",
      "Epoch 11/20\n",
      "938/938 [==============================] - 7s 8ms/step - loss: 0.3350 - accuracy: 0.8812\n",
      "Epoch 12/20\n",
      "938/938 [==============================] - 8s 8ms/step - loss: 0.3330 - accuracy: 0.8807\n",
      "Epoch 13/20\n",
      "938/938 [==============================] - 7s 8ms/step - loss: 0.3219 - accuracy: 0.8854\n",
      "Epoch 14/20\n",
      "938/938 [==============================] - 7s 8ms/step - loss: 0.3162 - accuracy: 0.8899\n",
      "Epoch 15/20\n",
      "938/938 [==============================] - 7s 8ms/step - loss: 0.3129 - accuracy: 0.8873\n",
      "Epoch 16/20\n",
      "938/938 [==============================] - 7s 8ms/step - loss: 0.3139 - accuracy: 0.8880\n",
      "Epoch 17/20\n",
      "938/938 [==============================] - 7s 8ms/step - loss: 0.2999 - accuracy: 0.8927\n",
      "Epoch 18/20\n",
      "938/938 [==============================] - 7s 8ms/step - loss: 0.3002 - accuracy: 0.8927\n",
      "Epoch 19/20\n",
      "938/938 [==============================] - 7s 8ms/step - loss: 0.3055 - accuracy: 0.8907\n",
      "Epoch 20/20\n",
      "938/938 [==============================] - 7s 8ms/step - loss: 0.2951 - accuracy: 0.8934\n"
     ]
    },
    {
     "data": {
      "text/plain": [
       "<tensorflow.python.keras.callbacks.History at 0x7f18fc753780>"
      ]
     },
     "execution_count": 35,
     "metadata": {
      "tags": []
     },
     "output_type": "execute_result"
    }
   ],
   "source": [
    "model = define_classifier((28,28,1))\r\n",
    "model.fit(x_train_reg, y_train_cat, epochs=20, batch_size=64)"
   ]
  },
  {
   "cell_type": "code",
   "execution_count": null,
   "metadata": {
    "colab": {
     "base_uri": "https://localhost:8080/"
    },
    "id": "DaGO4-4HUF4k",
    "outputId": "42e264fa-33c9-4589-ce91-3be831b8d5a7"
   },
   "outputs": [
    {
     "name": "stdout",
     "output_type": "stream",
     "text": [
      "Test loss: 0.3620312213897705\n",
      "Test accuracy: 0.8780999779701233\n"
     ]
    }
   ],
   "source": [
    "score = model.evaluate(x_test_reg, y_test_cat, verbose=0)\r\n",
    "print(\"Test loss:\", score[0])\r\n",
    "print(\"Test accuracy:\", score[1])"
   ]
  },
  {
   "cell_type": "markdown",
   "metadata": {
    "id": "0UwGFe6Yu7AR"
   },
   "source": [
    "-------------\r\n",
    "\r\n",
    "## <font color='orange'>**Final Notes**<font/>\r\n",
    "\r\n",
    "As your dataset complexity changes, you will need to fine-tune your model accordingly. You might end following our procedure earlier, or might discover a better one.<br/>\r\n",
    "The purpose here was to give an example of how to react to failures when confronting a practical deep learning problem.<br/><br/>\r\n",
    "\r\n",
    "*“Breathe as the tears flow,<br/>\r\n",
    "Breathe when you cannot gaze up high,<br/>\r\n",
    "Breathe as to know the world will lie,<br/>\r\n",
    "Breathe when you choke to ask: “Why?”<br/>\r\n",
    "Breathe even when you are about to die.*\"<br/><br/>\r\n",
    "-Somya Kedia"
   ]
  },
  {
   "cell_type": "code",
   "execution_count": null,
   "metadata": {
    "id": "drcGC7mvUypV"
   },
   "outputs": [],
   "source": []
  }
 ],
 "metadata": {
  "colab": {
   "name": "MLP.ipynb",
   "provenance": []
  },
  "kernelspec": {
   "display_name": "Python 3",
   "language": "python",
   "name": "python3"
  },
  "language_info": {
   "codemirror_mode": {
    "name": "ipython",
    "version": 3
   },
   "file_extension": ".py",
   "mimetype": "text/x-python",
   "name": "python",
   "nbconvert_exporter": "python",
   "pygments_lexer": "ipython3",
   "version": "3.8.5"
  }
 },
 "nbformat": 4,
 "nbformat_minor": 4
}
