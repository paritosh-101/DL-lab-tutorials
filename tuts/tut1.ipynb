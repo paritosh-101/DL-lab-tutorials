{
 "cells": [
  {
   "cell_type": "markdown",
   "metadata": {},
   "source": [
    "**Tutorial style and structure credit:**<br/>\n",
    "[sentdex](https://www.youtube.com/c/sentdex/featured)"
   ]
  },
  {
   "cell_type": "markdown",
   "metadata": {},
   "source": [
    "### Basic Neuron\n",
    "single input, single neuron"
   ]
  },
  {
   "cell_type": "code",
   "execution_count": 1,
   "metadata": {},
   "outputs": [
    {
     "name": "stdout",
     "output_type": "stream",
     "text": [
      "-3.4200000000000017\n"
     ]
    }
   ],
   "source": [
    "inputs = [4.5, 2.3, -7.4]\n",
    "weights = [1.7, 5.9, 3.6]\n",
    "bias = 2\n",
    "\n",
    "output = inputs[0]*weights[0] + inputs[1]*weights[1] + inputs[2]*weights[2] + bias\n",
    "print(output)"
   ]
  },
  {
   "cell_type": "markdown",
   "metadata": {},
   "source": [
    "------------------------------------------------------------------------------------------------\n",
    "\n",
    "### Basic Layer\n",
    "multiple inputs, multiple neurons<br/>\n",
    "densely connected, all inputs go to all neurons<br/>\n",
    "unique sets of weights and biases for each neuron, inputs remain the same"
   ]
  },
  {
   "cell_type": "code",
   "execution_count": 27,
   "metadata": {},
   "outputs": [
    {
     "name": "stdout",
     "output_type": "stream",
     "text": [
      "[0.46799999999999975, -1.8969999999999998, 1.2179999999999995]\n"
     ]
    }
   ],
   "source": [
    "inputs = [4.5, 2.3, -7.4, 1.5]\n",
    "\n",
    "weights1 = [0.17, 0.59, 0.36, -0.66]\n",
    "weights2 = [0.23, -0.34, 0.45, 0.12]\n",
    "weights3 = [-0.67, 0.78, 0.14, 0.25]\n",
    "\n",
    "bias1 = 2\n",
    "bias2 = 1\n",
    "bias3 = 3.1\n",
    "\n",
    "output = [inputs[0]*weights1[0] + inputs[1]*weights1[1] + inputs[2]*weights1[2] + inputs[3]*weights1[3] + bias1,\n",
    "          inputs[0]*weights2[0] + inputs[1]*weights2[1] + inputs[2]*weights2[2] + inputs[3]*weights2[3] + bias2,\n",
    "          inputs[0]*weights3[0] + inputs[1]*weights3[1] + inputs[2]*weights3[2] + inputs[3]*weights3[3] + bias3]\n",
    "print(output)"
   ]
  },
  {
   "cell_type": "markdown",
   "metadata": {},
   "source": [
    "----------------------------\n",
    "\n",
    "### Clean Code"
   ]
  },
  {
   "cell_type": "code",
   "execution_count": 28,
   "metadata": {},
   "outputs": [
    {
     "name": "stdout",
     "output_type": "stream",
     "text": [
      "[0.468, -1.897, 1.218]\n"
     ]
    }
   ],
   "source": [
    "inputs = [4.5, 2.3, -7.4, 1.5]\n",
    "\n",
    "weights = [[0.17, 0.59, 0.36, -0.66],\n",
    "           [0.23, -0.34, 0.45, 0.12],\n",
    "           [-0.67, 0.78, 0.14, 0.25]]\n",
    "\n",
    "biases = [2, 1, 3.1]\n",
    "\n",
    "layer_output=[]  # output of one layer of neurons\n",
    "for i in range(len(weights)): # taking weights row-wise\n",
    "    neuron_output=0.0  # output of single neuron in said layer\n",
    "    for j in range(len(weights[i])):\n",
    "        neuron_output = neuron_output + inputs[j]*weights[i][j]\n",
    "    neuron_output = round((neuron_output + biases[i]),3)\n",
    "    layer_output.append(neuron_output)\n",
    "\n",
    "print(layer_output)"
   ]
  },
  {
   "cell_type": "markdown",
   "metadata": {},
   "source": [
    "---------------------------\n",
    "\n",
    "### Dot Product"
   ]
  },
  {
   "cell_type": "code",
   "execution_count": 29,
   "metadata": {},
   "outputs": [],
   "source": [
    "import numpy as np"
   ]
  },
  {
   "cell_type": "code",
   "execution_count": 31,
   "metadata": {},
   "outputs": [
    {
     "name": "stdout",
     "output_type": "stream",
     "text": [
      "4.8\n",
      "check:  4.8\n"
     ]
    }
   ],
   "source": [
    "inputs = [1, 2, 3, 2.5]\n",
    "weights = [0.2, 0.8, -0.5, 1.0]\n",
    "bias = 2.0\n",
    "\n",
    "output = np.dot(inputs, weights) + bias\n",
    "print(output)\n",
    "\n",
    "# sanity check\n",
    "output2 = inputs[0]*weights[0] + inputs[1]*weights[1] + inputs[2]*weights[2] + inputs[3]*weights[3] + bias\n",
    "print(\"check: \", output2)"
   ]
  },
  {
   "cell_type": "code",
   "execution_count": 42,
   "metadata": {},
   "outputs": [
    {
     "name": "stdout",
     "output_type": "stream",
     "text": [
      "[ 0.468 -1.897  1.218]\n"
     ]
    }
   ],
   "source": [
    "inputs = [4.5, 2.3, -7.4, 1.5]\n",
    "\n",
    "weights = [[0.17, 0.59, 0.36, -0.66],\n",
    "           [0.23, -0.34, 0.45, 0.12],\n",
    "           [-0.67, 0.78, 0.14, 0.25]]\n",
    "\n",
    "biases = [2, 1, 3.1]\n",
    "\n",
    "output = np.dot(weights, inputs) + biases\n",
    "print(output)"
   ]
  },
  {
   "cell_type": "code",
   "execution_count": 43,
   "metadata": {},
   "outputs": [
    {
     "name": "stdout",
     "output_type": "stream",
     "text": [
      "[ 0.468 -1.897  1.218]\n"
     ]
    }
   ],
   "source": [
    "# To avoid confusion concerning the order in which the product is executed i.e., weights X inputs vs. inputs X weights\n",
    "\n",
    "inputs = [4.5, 2.3, -7.4, 1.5]\n",
    "\n",
    "weights = [[0.17, 0.59, 0.36, -0.66],\n",
    "           [0.23, -0.34, 0.45, 0.12],\n",
    "           [-0.67, 0.78, 0.14, 0.25]]\n",
    "\n",
    "biases = [2, 1, 3.1]\n",
    "\n",
    "output = np.dot(inputs, np.array(weights).T) + biases\n",
    "print(output)"
   ]
  },
  {
   "cell_type": "markdown",
   "metadata": {},
   "source": [
    "-----------------------------\n",
    "\n",
    "### Inputs in batches (matrix product)"
   ]
  },
  {
   "cell_type": "code",
   "execution_count": 45,
   "metadata": {},
   "outputs": [
    {
     "name": "stdout",
     "output_type": "stream",
     "text": [
      "[[ 0.468 -1.897  1.218]\n",
      " [ 3.61  -0.45   6.02 ]\n",
      " [ 5.054  1.126  6.473]]\n"
     ]
    }
   ],
   "source": [
    "# 3 sets of inputs\n",
    "inputs = [[4.5, 2.3, -7.4, 1.5],\n",
    "          [2.0, 5.0, -1.0, 2.0],\n",
    "          [-1.5, 2.7, 3.3, -0.8]]\n",
    "\n",
    "weights = [[0.17, 0.59, 0.36, -0.66],\n",
    "           [0.23, -0.34, 0.45, 0.12],\n",
    "           [-0.67, 0.78, 0.14, 0.25]]\n",
    "\n",
    "biases = [2, 1, 3.1]\n",
    "\n",
    "output = np.dot(inputs, np.array(weights).T) + biases  # Broadcasting while adding biases\n",
    "print(output)"
   ]
  },
  {
   "cell_type": "markdown",
   "metadata": {},
   "source": [
    "---------------\n",
    "\n",
    "### Add another layer"
   ]
  },
  {
   "cell_type": "code",
   "execution_count": 46,
   "metadata": {},
   "outputs": [
    {
     "name": "stdout",
     "output_type": "stream",
     "text": [
      "[[-0.07862  1.13642 -2.24907]\n",
      " [ 2.434   -1.8456  -3.1995 ]\n",
      " [ 2.58426 -2.52797 -2.74327]]\n"
     ]
    }
   ],
   "source": [
    "inputs = [[4.5, 2.3, -7.4, 1.5],\n",
    "          [2.0, 5.0, -1.0, 2.0],\n",
    "          [-1.5, 2.7, 3.3, -0.8]]\n",
    "\n",
    "# First layer\n",
    "weights = [[0.17, 0.59, 0.36, -0.66],\n",
    "           [0.23, -0.34, 0.45, 0.12],\n",
    "           [-0.67, 0.78, 0.14, 0.25]]\n",
    "\n",
    "biases = [2, 1, 3.1]\n",
    "\n",
    "# Second layer\n",
    "weights2 = [[0.1, -0.14, 0.5],\n",
    "            [-0.5, 0.12, -0.33],\n",
    "            [-0.44, 0.73, -0.13]]\n",
    "\n",
    "biases2 = [-1, 2, -0.5]\n",
    "\n",
    "output_l1 = np.dot(inputs, np.array(weights).T) + biases  # output of first layer = input of second layer\n",
    "output_l2 = np.dot(output_l1, np.array(weights2).T) + biases2  # output of second layer\n",
    "print(output_l2)"
   ]
  },
  {
   "cell_type": "markdown",
   "metadata": {},
   "source": [
    "---------------\n",
    "\n",
    "### Function to build up layers"
   ]
  },
  {
   "cell_type": "code",
   "execution_count": 66,
   "metadata": {},
   "outputs": [],
   "source": [
    "# np.random.seed(0)\n",
    "\n",
    "def define_layer(inputs, n_neurons):\n",
    "    \n",
    "    weights = np.random.randn(inputs.shape[-1], n_neurons)  # might want to regularize the random outputs to smaller values with ( * 0.1)\n",
    "    biases = np.zeros((1, n_neurons))\n",
    "    \n",
    "    return [weights, biases]"
   ]
  },
  {
   "cell_type": "code",
   "execution_count": 71,
   "metadata": {},
   "outputs": [],
   "source": [
    "def forward_pass(inputs, layer):\n",
    "    \n",
    "    weights, biases = layer\n",
    "    output = np.dot(inputs, weights) + biases\n",
    "    \n",
    "    return output"
   ]
  },
  {
   "cell_type": "code",
   "execution_count": 73,
   "metadata": {},
   "outputs": [
    {
     "name": "stdout",
     "output_type": "stream",
     "text": [
      "[[ 5.03545347  1.76834151 -2.37877239 -5.27971419  0.22097513]\n",
      " [-1.47063913  2.07529762  0.04615776  0.39115949 -0.2937936 ]\n",
      " [-2.11385545 -0.92262497  1.04371128  2.29644677 -0.07681684]]\n"
     ]
    }
   ],
   "source": [
    "inputs = [[4.5, 2.3, -7.4, 1.5],\n",
    "          [2.0, 5.0, -1.0, 2.0],\n",
    "          [-1.5, 2.7, 3.3, -0.8]]\n",
    "\n",
    "# inputs = [4.5, 2.3, -7.4, 1.5]\n",
    "\n",
    "layer1 = define_layer(np.array(inputs), 2)\n",
    "out1 = forward_pass(inputs, layer1)\n",
    "# print(out1)\n",
    "\n",
    "layer2 = define_layer(out1, 5)\n",
    "out2 = forward_pass(out1, layer2)\n",
    "print(out2)"
   ]
  },
  {
   "cell_type": "markdown",
   "metadata": {},
   "source": [
    "### Activation function: Rectified Linear Unit (ReLU)"
   ]
  },
  {
   "cell_type": "code",
   "execution_count": 74,
   "metadata": {},
   "outputs": [
    {
     "name": "stdout",
     "output_type": "stream",
     "text": [
      "[0, 3, 0, 3.3, 0, 1.1, 2.2, 0]\n"
     ]
    }
   ],
   "source": [
    "inputs = [0, 3, -1, 3.3, -2.7, 1.1, 2.2, -100]\n",
    "output = []\n",
    "\n",
    "# ReLU\n",
    "for i in inputs:\n",
    "    if i > 0:\n",
    "        output.append(i)\n",
    "    else:\n",
    "        output.append(0)  # Or use max()\n",
    "        \n",
    "print(output)"
   ]
  },
  {
   "cell_type": "code",
   "execution_count": null,
   "metadata": {},
   "outputs": [],
   "source": []
  }
 ],
 "metadata": {
  "kernelspec": {
   "display_name": "Python 3",
   "language": "python",
   "name": "python3"
  },
  "language_info": {
   "codemirror_mode": {
    "name": "ipython",
    "version": 3
   },
   "file_extension": ".py",
   "mimetype": "text/x-python",
   "name": "python",
   "nbconvert_exporter": "python",
   "pygments_lexer": "ipython3",
   "version": "3.8.5"
  }
 },
 "nbformat": 4,
 "nbformat_minor": 4
}
