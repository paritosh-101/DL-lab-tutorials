{
 "cells": [
  {
   "cell_type": "markdown",
   "metadata": {},
   "source": [
    "**Tutorial style and structure credit:**<br/>\n",
    "[sentdex youtube tutorials](https://www.youtube.com/c/sentdex/featured)"
   ]
  },
  {
   "cell_type": "markdown",
   "metadata": {},
   "source": [
    "### Basic Neuron\n",
    "single input, single neuron"
   ]
  },
  {
   "cell_type": "code",
   "execution_count": 1,
   "metadata": {},
   "outputs": [
    {
     "name": "stdout",
     "output_type": "stream",
     "text": [
      "-3.4200000000000017\n"
     ]
    }
   ],
   "source": [
    "inputs = [4.5, 2.3, -7.4]\n",
    "weights = [1.7, 5.9, 3.6]\n",
    "bias = 2\n",
    "\n",
    "output = inputs[0]*weights[0] + inputs[1]*weights[1] + inputs[2]*weights[2] + bias\n",
    "print(output)"
   ]
  },
  {
   "cell_type": "markdown",
   "metadata": {},
   "source": [
    "### Basic Layer\n",
    "multiple inputs, multiple neurons<br/>\n",
    "densely connected, all inputs go to all neurons<br/>\n",
    "unique sets of weights and biases for each neuron, inputs remain the same"
   ]
  },
  {
   "cell_type": "code",
   "execution_count": 4,
   "metadata": {},
   "outputs": [
    {
     "name": "stdout",
     "output_type": "stream",
     "text": [
      "[0.46799999999999975, -1.8969999999999998, 1.2179999999999995]\n"
     ]
    }
   ],
   "source": [
    "inputs = [4.5, 2.3, -7.4, 1.5]\n",
    "\n",
    "weights1 = [0.17, 0.59, 0.36, -0.66]\n",
    "weights2 = [0.23, -0.34, 0.45, 0.12]\n",
    "weights3 = [-0.67, 0.78, 0.14, 0.25]\n",
    "\n",
    "bias1 = 2\n",
    "bias2 = 1\n",
    "bias3 = 3.1\n",
    "\n",
    "output = [inputs[0]*weights1[0] + inputs[1]*weights1[1] + inputs[2]*weights1[2] + inputs[3]*weights1[3] + bias1,\n",
    "          inputs[0]*weights2[0] + inputs[1]*weights2[1] + inputs[2]*weights2[2] + inputs[3]*weights2[3] + bias2,\n",
    "          inputs[0]*weights3[0] + inputs[1]*weights3[1] + inputs[2]*weights3[2] + inputs[3]*weights3[3] + bias3]\n",
    "print(output)"
   ]
  },
  {
   "cell_type": "code",
   "execution_count": null,
   "metadata": {},
   "outputs": [],
   "source": []
  }
 ],
 "metadata": {
  "kernelspec": {
   "display_name": "Python 3",
   "language": "python",
   "name": "python3"
  },
  "language_info": {
   "codemirror_mode": {
    "name": "ipython",
    "version": 3
   },
   "file_extension": ".py",
   "mimetype": "text/x-python",
   "name": "python",
   "nbconvert_exporter": "python",
   "pygments_lexer": "ipython3",
   "version": "3.8.5"
  }
 },
 "nbformat": 4,
 "nbformat_minor": 4
}
